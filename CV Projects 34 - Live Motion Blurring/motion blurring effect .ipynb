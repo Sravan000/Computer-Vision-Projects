{
 "cells": [
  {
   "cell_type": "code",
   "execution_count": 1,
   "metadata": {},
   "outputs": [
    {
     "data": {
      "text/plain": [
       "-1"
      ]
     },
     "execution_count": 1,
     "metadata": {},
     "output_type": "execute_result"
    }
   ],
   "source": [
    "#importing lib\n",
    "\n",
    "import cv2\n",
    "import numpy as np\n",
    "img = cv2.imread('yoaimo.png')\n",
    "#showing original image\n",
    "cv2.imshow('Original', img) \n",
    " #setting size\n",
    "size = 15\n",
    "\n",
    "motion_blur = np.zeros((size, size)) \n",
    "motion_blur[int((size-1)/2), :] = np.ones(size)\n",
    "motion_blur = motion_blur / size\n",
    "#getting blur image\n",
    "output = cv2.filter2D(img, -1, motion_blur) \n",
    "cv2.imshow('Motion Blur', output)\n",
    "cv2.waitKey(0)"
   ]
  },
  {
   "cell_type": "code",
   "execution_count": null,
   "metadata": {},
   "outputs": [],
   "source": []
  }
 ],
 "metadata": {
  "kernelspec": {
   "display_name": "Python 3 (ipykernel)",
   "language": "python",
   "name": "python3"
  },
  "language_info": {
   "codemirror_mode": {
    "name": "ipython",
    "version": 3
   },
   "file_extension": ".py",
   "mimetype": "text/x-python",
   "name": "python",
   "nbconvert_exporter": "python",
   "pygments_lexer": "ipython3",
   "version": "3.9.5"
  }
 },
 "nbformat": 4,
 "nbformat_minor": 2
}
