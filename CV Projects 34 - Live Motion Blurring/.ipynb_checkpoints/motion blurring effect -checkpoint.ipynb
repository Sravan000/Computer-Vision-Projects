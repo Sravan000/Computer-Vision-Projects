{
 "cells": [
  {
   "cell_type": "code",
   "execution_count": null,
   "metadata": {},
   "outputs": [],
   "source": [
    "#importing lib\n",
    "\n",
    "import cv2\n",
    "import numpy as np\n",
    "img = cv2.imread('input.jpg')\n",
    "cv2.imshow('Original', img) #showing original image\n",
    "size = 15 #setting size\n",
    "\n",
    "motion_blur = np.zeros((size, size)) \n",
    "motion_blur[int((size-1)/2), :] = np.ones(size)\n",
    "motion_blur = motion_blur / size\n",
    "\n",
    "output = cv2.filter2D(img, -1, motion_blur) #getting blur image\n",
    "cv2.imshow('Motion Blur', output)\n",
    "cv2.waitKey(0)"
   ]
  }
 ],
 "metadata": {
  "kernelspec": {
   "display_name": "Python 3 (ipykernel)",
   "language": "python",
   "name": "python3"
  },
  "language_info": {
   "codemirror_mode": {
    "name": "ipython",
    "version": 3
   },
   "file_extension": ".py",
   "mimetype": "text/x-python",
   "name": "python",
   "nbconvert_exporter": "python",
   "pygments_lexer": "ipython3",
   "version": "3.9.5"
  }
 },
 "nbformat": 4,
 "nbformat_minor": 2
}
