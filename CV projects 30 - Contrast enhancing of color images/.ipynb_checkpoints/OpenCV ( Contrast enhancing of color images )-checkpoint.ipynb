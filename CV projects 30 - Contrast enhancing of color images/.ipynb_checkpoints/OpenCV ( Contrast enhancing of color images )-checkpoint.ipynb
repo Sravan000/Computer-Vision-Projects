{
 "cells": [
  {
   "cell_type": "code",
   "execution_count": 7,
   "metadata": {},
   "outputs": [],
   "source": [
    "##Contrast enhancing in color image"
   ]
  },
  {
   "cell_type": "code",
   "execution_count": null,
   "metadata": {},
   "outputs": [],
   "source": [
    "#impot libraries\n",
    "\n",
    "import cv2\n",
    "import numpy as np\n",
    "images = cv2.imread('E://OpenCV//hi.png')\n",
    "images=cv2.resize(images,(500,500)) #resizing the image\n",
    "images_yuv = cv2.cvtColor(images, cv2.COLOR_BGR2YUV) #converting bgr into yuv\n",
    "\n",
    "images_yuv[:,:,0] = cv2.equalizeHist(images_yuv[:,:,0])\n",
    "\n",
    "images_output = cv2.cvtColor(images_yuv, cv2.COLOR_YUV2BGR)\n",
    "cv2.imshow('Color input image', images)\n",
    "cv2.imshow('Histogram equalized', images_output)\n",
    "cv2.waitKey(0)\n",
    "#distrying the windows\n",
    "cv2.destroyAllWindows()"
   ]
  }
 ],
 "metadata": {
  "kernelspec": {
   "display_name": "Python 3 (ipykernel)",
   "language": "python",
   "name": "python3"
  },
  "language_info": {
   "codemirror_mode": {
    "name": "ipython",
    "version": 3
   },
   "file_extension": ".py",
   "mimetype": "text/x-python",
   "name": "python",
   "nbconvert_exporter": "python",
   "pygments_lexer": "ipython3",
   "version": "3.9.5"
  }
 },
 "nbformat": 4,
 "nbformat_minor": 2
}
