{
 "cells": [
  {
   "cell_type": "markdown",
   "metadata": {},
   "source": [
    "# Contrast enhancing in color image"
   ]
  },
  {
   "cell_type": "code",
   "execution_count": 1,
   "metadata": {},
   "outputs": [],
   "source": [
    "#impot libraries\n",
    "\n",
    "import cv2\n",
    "import numpy as np\n",
    "images = cv2.imread('yoaimo.png')\n",
    " #resizing the image\n",
    "images=cv2.resize(images,(600,1000))\n",
    "#converting bgr into yuv\n",
    "images_yuv = cv2.cvtColor(images, cv2.COLOR_BGR2YUV) \n",
    "\n",
    "images_yuv[:,:,0] = cv2.equalizeHist(images_yuv[:,:,0])#Equalizing Histogram\n",
    "\n",
    "images_output = cv2.cvtColor(images_yuv, cv2.COLOR_YUV2BGR)\n",
    "cv2.imshow('Color input image', images)\n",
    "cv2.imshow('Histogram equalized', images_output)\n",
    "cv2.waitKey(0)\n",
    "#distrying the windows\n",
    "cv2.destroyAllWindows()"
   ]
  },
  {
   "cell_type": "code",
   "execution_count": null,
   "metadata": {},
   "outputs": [],
   "source": []
  }
 ],
 "metadata": {
  "kernelspec": {
   "display_name": "Python 3 (ipykernel)",
   "language": "python",
   "name": "python3"
  },
  "language_info": {
   "codemirror_mode": {
    "name": "ipython",
    "version": 3
   },
   "file_extension": ".py",
   "mimetype": "text/x-python",
   "name": "python",
   "nbconvert_exporter": "python",
   "pygments_lexer": "ipython3",
   "version": "3.9.5"
  }
 },
 "nbformat": 4,
 "nbformat_minor": 2
}
