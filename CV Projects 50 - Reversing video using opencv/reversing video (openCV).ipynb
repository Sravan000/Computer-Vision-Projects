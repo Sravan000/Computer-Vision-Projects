{
 "cells": [
  {
   "cell_type": "code",
   "execution_count": 2,
   "metadata": {},
   "outputs": [],
   "source": [
    "#importing libraries\n",
    "import cv2   \n",
    "cap = cv2.VideoCapture(\"BMW.mp4\") #path\n",
    "check , vid = cap.read() #reading video\n",
    "count = 0\n",
    "check = True \n",
    "framelist = [] \n",
    "while(check == True): \n",
    "    cv2.imwrite(\"frame%d.jpg\" %count , vid) \n",
    "    check , vid = cap.read() \n",
    "    framelist.append(vid) \n",
    "    count += 1\n",
    "framelist.pop() \n",
    "framelist.reverse() \n",
    "for frame in framelist: \n",
    "    cv2.imshow(\"Frame\" , frame) \n",
    "    if cv2.waitKey(25) and 0xFF == ord(\"q\"): \n",
    "        break\n",
    "cap.release() \n",
    "cv2.destroyAllWindows() #clearing ram memories"
   ]
  }
 ],
 "metadata": {
  "kernelspec": {
   "display_name": "Python 3 (ipykernel)",
   "language": "python",
   "name": "python3"
  },
  "language_info": {
   "codemirror_mode": {
    "name": "ipython",
    "version": 3
   },
   "file_extension": ".py",
   "mimetype": "text/x-python",
   "name": "python",
   "nbconvert_exporter": "python",
   "pygments_lexer": "ipython3",
   "version": "3.9.5"
  }
 },
 "nbformat": 4,
 "nbformat_minor": 4
}
