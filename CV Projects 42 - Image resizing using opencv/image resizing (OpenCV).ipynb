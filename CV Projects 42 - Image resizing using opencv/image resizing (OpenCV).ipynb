{
 "cells": [
  {
   "cell_type": "code",
   "execution_count": 3,
   "metadata": {},
   "outputs": [],
   "source": [
    "#importing libraries\n",
    "import cv2 \n",
    "import numpy as np \n",
    "import matplotlib.pyplot as plt  \n",
    "%matplotlib qt  \n",
    "  \n",
    "image = cv2.imread(\"sukuna.png\", 1)  #image path\n",
    "\n",
    "#resizing the image size\n",
    "half = cv2.resize(image, (0, 0), fx = 0.1, fy = 0.1) \n",
    "bigger = cv2.resize(image, (1050, 1610)) \n",
    "  \n",
    "stretch_val = cv2.resize(image, (780, 540),  \n",
    "               interpolation = cv2.INTER_NEAREST) \n",
    "  \n",
    "Titles =[\"Original\", \"Half\", \"Bigger\", \"Interpolation Nearest\"] \n",
    "images =[image, half, bigger, stretch_val] \n",
    "count = 4\n",
    "  \n",
    "for i in range(count): \n",
    "    plt.subplot(2, 2, i + 1) \n",
    "    plt.title(Titles[i]) \n",
    "    plt.imshow(images[i]) \n",
    "plt.show() #printing result"
   ]
  },
  {
   "cell_type": "code",
   "execution_count": null,
   "metadata": {},
   "outputs": [],
   "source": []
  }
 ],
 "metadata": {
  "kernelspec": {
   "display_name": "Python 3",
   "language": "python",
   "name": "python3"
  },
  "language_info": {
   "codemirror_mode": {
    "name": "ipython",
    "version": 3
   },
   "file_extension": ".py",
   "mimetype": "text/x-python",
   "name": "python",
   "nbconvert_exporter": "python",
   "pygments_lexer": "ipython3",
   "version": "3.8.8"
  }
 },
 "nbformat": 4,
 "nbformat_minor": 2
}
