{
 "cells": [
  {
   "cell_type": "code",
   "execution_count": 3,
   "metadata": {},
   "outputs": [
    {
     "name": "stderr",
     "output_type": "stream",
     "text": [
      "C:\\Users\\NAYANI~1\\AppData\\Local\\Temp/ipykernel_6696/994567240.py:7: DeprecationWarning: `np.float` is a deprecated alias for the builtin `float`. To silence this warning, use `float` by itself. Doing this will not modify any behavior and is safe. If you specifically wanted the numpy scalar type, use `np.float64` here.\n",
      "Deprecated in NumPy 1.20; for more details and guidance: https://numpy.org/devdocs/release/1.20.0-notes.html#deprecations\n",
      "  blur_filter1 = np.ones((3, 3), np.float)/(9.0)\n",
      "C:\\Users\\NAYANI~1\\AppData\\Local\\Temp/ipykernel_6696/994567240.py:9: DeprecationWarning: `np.float` is a deprecated alias for the builtin `float`. To silence this warning, use `float` by itself. Doing this will not modify any behavior and is safe. If you specifically wanted the numpy scalar type, use `np.float64` here.\n",
      "Deprecated in NumPy 1.20; for more details and guidance: https://numpy.org/devdocs/release/1.20.0-notes.html#deprecations\n",
      "  blur_filter2 = np.ones((5, 5), np.float)/(25.0)\n",
      "C:\\Users\\NAYANI~1\\AppData\\Local\\Temp/ipykernel_6696/994567240.py:11: DeprecationWarning: `np.float` is a deprecated alias for the builtin `float`. To silence this warning, use `float` by itself. Doing this will not modify any behavior and is safe. If you specifically wanted the numpy scalar type, use `np.float64` here.\n",
      "Deprecated in NumPy 1.20; for more details and guidance: https://numpy.org/devdocs/release/1.20.0-notes.html#deprecations\n",
      "  blur_filter3 = np.ones((7, 7), np.float)/(49.0)\n"
     ]
    },
    {
     "ename": "NameError",
     "evalue": "name 'image' is not defined",
     "output_type": "error",
     "traceback": [
      "\u001b[1;31m---------------------------------------------------------------------------\u001b[0m",
      "\u001b[1;31mNameError\u001b[0m                                 Traceback (most recent call last)",
      "\u001b[1;32mC:\\Users\\NAYANI~1\\AppData\\Local\\Temp/ipykernel_6696/994567240.py\u001b[0m in \u001b[0;36m<module>\u001b[1;34m\u001b[0m\n\u001b[0;32m     17\u001b[0m \u001b[1;33m\u001b[0m\u001b[0m\n\u001b[0;32m     18\u001b[0m \u001b[1;31m#comparing images from original to blur filter\u001b[0m\u001b[1;33m\u001b[0m\u001b[1;33m\u001b[0m\u001b[1;33m\u001b[0m\u001b[0m\n\u001b[1;32m---> 19\u001b[1;33m \u001b[0mcv2\u001b[0m\u001b[1;33m.\u001b[0m\u001b[0mimshow\u001b[0m\u001b[1;33m(\u001b[0m\u001b[1;34m'programming_fever.logo.ORIGINAL'\u001b[0m\u001b[1;33m,\u001b[0m \u001b[0mimage\u001b[0m\u001b[1;33m)\u001b[0m\u001b[1;33m\u001b[0m\u001b[1;33m\u001b[0m\u001b[0m\n\u001b[0m\u001b[0;32m     20\u001b[0m \u001b[0mcv2\u001b[0m\u001b[1;33m.\u001b[0m\u001b[0mimshow\u001b[0m\u001b[1;33m(\u001b[0m\u001b[1;34m'programming_fever.logo.BLUR1'\u001b[0m\u001b[1;33m,\u001b[0m \u001b[0mimage_blur1\u001b[0m\u001b[1;33m)\u001b[0m\u001b[1;33m\u001b[0m\u001b[1;33m\u001b[0m\u001b[0m\n\u001b[0;32m     21\u001b[0m \u001b[0mcv2\u001b[0m\u001b[1;33m.\u001b[0m\u001b[0mimshow\u001b[0m\u001b[1;33m(\u001b[0m\u001b[1;34m'programming_fever.logo.BLUR2'\u001b[0m\u001b[1;33m,\u001b[0m \u001b[0mimage_blur2\u001b[0m\u001b[1;33m)\u001b[0m\u001b[1;33m\u001b[0m\u001b[1;33m\u001b[0m\u001b[0m\n",
      "\u001b[1;31mNameError\u001b[0m: name 'image' is not defined"
     ]
    }
   ],
   "source": [
    "import cv2 \n",
    "import numpy as np \n",
    "# Capturing Image from the same folder\n",
    "img = cv2.imread('yoaimo.png')\n",
    "\n",
    "# resizing image for our needs\n",
    "image_val = cv2.resize(img, (0, 0), fx =0.1, fy =0.1)  \n",
    "\n",
    "\n",
    "# creating a filter to apply over our image\n",
    "\n",
    "filter1 = np.ones((3, 3), np.float)/(9.0) \n",
    "  \n",
    "filter2 = np.ones((5, 5), np.float)/(25.0) \n",
    "  \n",
    "filter3 = np.ones((7, 7), np.float)/(49.0) \n",
    "\n",
    "\n",
    "\n",
    "# now using the the filters we created to apply on image that we captured \n",
    "# remember our objective is to apply filer over the orignal image not already filtered image\n",
    "#first layer\n",
    "blur1 = cv2.filter2D(image_val, -1, filter1) \n",
    "#Second Layer\n",
    "blur2 = cv2.filter2D(image_val, -1, filter2) \n",
    "#Third Layer\n",
    "blur3 = cv2.filter2D(image_val, -1, filter3) \n",
    "\n",
    "# For the sake of curiocity let's create an image which is the overlap of all other filters\n",
    "blur_blast = cv2.filter2D(blur1, -1, filter2)\n",
    "blur_blast = cv2.filter2D(blur_blast, -1, filter3)\n",
    "\n",
    "\n",
    "\n",
    "#comparing images from original to blur filter\n",
    "cv2.imshow('ORIGINAL', image) \n",
    "cv2.imshow('BLUR1', blur1) \n",
    "cv2.imshow('BLUR2', blur2) \n",
    "cv2.imshow('BLUR3', blur3) \n",
    "cv2.imshow('BLUR_BLAST', blur_blast)\n",
    "\n",
    "# distroying all the windows\n",
    "cv2.waitKey(0) \n",
    "cv2.destroyAllWindows()"
   ]
  },
  {
   "cell_type": "code",
   "execution_count": null,
   "metadata": {},
   "outputs": [],
   "source": []
  }
 ],
 "metadata": {
  "kernelspec": {
   "display_name": "Python 3 (ipykernel)",
   "language": "python",
   "name": "python3"
  },
  "language_info": {
   "codemirror_mode": {
    "name": "ipython",
    "version": 3
   },
   "file_extension": ".py",
   "mimetype": "text/x-python",
   "name": "python",
   "nbconvert_exporter": "python",
   "pygments_lexer": "ipython3",
   "version": "3.9.5"
  }
 },
 "nbformat": 4,
 "nbformat_minor": 2
}
