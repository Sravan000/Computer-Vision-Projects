{
 "cells": [
  {
   "cell_type": "code",
   "execution_count": 4,
   "metadata": {},
   "outputs": [],
   "source": [
    "import cv2 \n",
    "import numpy as np \n",
    "# Capturing Image from the same folder\n",
    "img = cv2.imread('yoaimo.png')\n",
    "\n",
    "# resizing image for our needs\n",
    "image_val = cv2.resize(img, (200, 500), fx =0.1, fy =0.1)  \n",
    "\n",
    "\n",
    "# creating a filter to apply over our image\n",
    "\n",
    "filter1 = np.ones((3, 3), np.float)/(9.0) \n",
    "  \n",
    "filter2 = np.ones((5, 5), np.float)/(25.0) \n",
    "  \n",
    "filter3 = np.ones((7, 7), np.float)/(49.0) \n",
    "\n",
    "\n",
    "\n",
    "# now using the the filters we created to apply on image that we captured \n",
    "# remember our objective is to apply filer over the orignal image not already filtered image\n",
    "#first layer\n",
    "blur1 = cv2.filter2D(image_val, -1, filter1) \n",
    "#Second Layer\n",
    "blur2 = cv2.filter2D(image_val, -1, filter2) \n",
    "#Third Layer\n",
    "blur3 = cv2.filter2D(image_val, -1, filter3) \n",
    "\n",
    "# For the sake of curiocity let's create an image which is the overlap of all other filters\n",
    "blur_blast = cv2.filter2D(blur1, -1, filter2)\n",
    "blur_blast = cv2.filter2D(blur_blast, -1, filter3)\n",
    "\n",
    "\n",
    "\n",
    "#comparing images from original to blur filter\n",
    "cv2.imshow('ORIGINAL', img) \n",
    "cv2.imshow('BLUR1', blur1) \n",
    "cv2.imshow('BLUR2', blur2) \n",
    "cv2.imshow('BLUR3', blur3) \n",
    "cv2.imshow('BLUR_BLAST', blur_blast)\n",
    "\n",
    "# distroying all the windows\n",
    "cv2.waitKey(0) \n",
    "cv2.destroyAllWindows()"
   ]
  },
  {
   "cell_type": "code",
   "execution_count": null,
   "metadata": {},
   "outputs": [],
   "source": []
  }
 ],
 "metadata": {
  "kernelspec": {
   "display_name": "Python 3 (ipykernel)",
   "language": "python",
   "name": "python3"
  },
  "language_info": {
   "codemirror_mode": {
    "name": "ipython",
    "version": 3
   },
   "file_extension": ".py",
   "mimetype": "text/x-python",
   "name": "python",
   "nbconvert_exporter": "python",
   "pygments_lexer": "ipython3",
   "version": "3.9.5"
  }
 },
 "nbformat": 4,
 "nbformat_minor": 2
}
