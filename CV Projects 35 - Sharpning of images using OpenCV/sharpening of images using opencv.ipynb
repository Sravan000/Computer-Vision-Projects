{
 "cells": [
  {
   "cell_type": "code",
   "execution_count": null,
   "metadata": {},
   "outputs": [],
   "source": [
    "#importing lib\n",
    "import cv2\n",
    "import numpy as np\n",
    "import matplotlib.pyplot as plt\n",
    "img = cv2.imread('yoaimo.png')\n",
    "#resizing the image\n",
    "img=cv2.resize(img,(300,300)) \n",
    "#showing original one\n",
    "cv2.imshow('Original', img) \n",
    "\n",
    "#setting the sharpen level\n",
    "sharpen_1 = np.array([[-1,-1,-1], [-1,9,-1], [-1,-1,-1]])\n",
    "sharpen_2 = np.array([[1,1,1], [1,-7,1], [1,1,1]])\n",
    "sharpen_3 = np.array([[-1,-1,-1,-1,-1],\n",
    "                             [-1,3,3,3,-1],\n",
    "                             [-1,3,8,3,-1],\n",
    "                             [-1,3,3,3,-1],\n",
    "                             [-1,-1,-1,-1,-1]]) / 25.0\n",
    "#getting output of sharpen images\n",
    "output_1 = cv2.filter2D(img, -1, sharpen_1)\n",
    "output_2 = cv2.filter2D(img, -1, sharpen_2)\n",
    "output_3 = cv2.filter2D(img, -1, sharpen_3)\n",
    "# Casting Result on Output Screen\n",
    "cv2.imshow('Sharpening', output_1)\n",
    "cv2.imshow('Excessive Sharpening', output_2)\n",
    "cv2.imshow('Edge Enhancement', output_3)\n",
    "\n",
    "#Freeing Captured ram space\n",
    "cv2.waitKey(0)\n",
    "cv2.destroyAllWindows()"
   ]
  },
  {
   "cell_type": "code",
   "execution_count": null,
   "metadata": {},
   "outputs": [],
   "source": []
  }
 ],
 "metadata": {
  "kernelspec": {
   "display_name": "Python 3 (ipykernel)",
   "language": "python",
   "name": "python3"
  },
  "language_info": {
   "codemirror_mode": {
    "name": "ipython",
    "version": 3
   },
   "file_extension": ".py",
   "mimetype": "text/x-python",
   "name": "python",
   "nbconvert_exporter": "python",
   "pygments_lexer": "ipython3",
   "version": "3.9.5"
  }
 },
 "nbformat": 4,
 "nbformat_minor": 2
}
