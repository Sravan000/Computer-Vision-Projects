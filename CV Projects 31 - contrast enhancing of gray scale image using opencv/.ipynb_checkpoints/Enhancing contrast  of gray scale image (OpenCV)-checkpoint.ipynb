{
 "cells": [
  {
   "cell_type": "code",
   "execution_count": null,
   "metadata": {},
   "outputs": [],
   "source": [
    "#importing libraries\n",
    "import cv2\n",
    "import numpy as np\n",
    "images_val = cv2.imread('E://OpenCV//histog.png', 0)\n",
    "images_val=cv2.resize(images_val,(500,500)) resizing the images\n",
    "histeq = cv2.equalizeHist(images_val)\n",
    "cv2.imshow('Input', images_val)\n",
    "cv2.imshow('Histogram equalized', histeq)\n",
    "cv2.waitKey(0)\n",
    "cv2.destroyAllWindows() #distroying all folders"
   ]
  }
 ],
 "metadata": {
  "kernelspec": {
   "display_name": "Python 3 (ipykernel)",
   "language": "python",
   "name": "python3"
  },
  "language_info": {
   "codemirror_mode": {
    "name": "ipython",
    "version": 3
   },
   "file_extension": ".py",
   "mimetype": "text/x-python",
   "name": "python",
   "nbconvert_exporter": "python",
   "pygments_lexer": "ipython3",
   "version": "3.9.5"
  }
 },
 "nbformat": 4,
 "nbformat_minor": 2
}
